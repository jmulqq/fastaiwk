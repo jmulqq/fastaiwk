{
 "cells": [
  {
   "cell_type": "code",
   "execution_count": 3,
   "id": "8b61e699-9161-47f5-a669-b18098469325",
   "metadata": {},
   "outputs": [],
   "source": [
    "#|default_exp\n",
    "#|export\n",
    "import numpy as np"
   ]
  },
  {
   "cell_type": "code",
   "execution_count": 4,
   "id": "7df6bd9e-e207-4f4a-b050-f6083215d1af",
   "metadata": {},
   "outputs": [],
   "source": [
    "from nbdev.export import nb_export\n",
    "nb_export('Untitled1.ipynb', './Untitled1.py')"
   ]
  },
  {
   "cell_type": "code",
   "execution_count": null,
   "id": "cc37949d-f92d-46b7-b633-efffd1588e8c",
   "metadata": {},
   "outputs": [],
   "source": []
  }
 ],
 "metadata": {
  "kernelspec": {
   "display_name": "Python 3 (ipykernel)",
   "language": "python",
   "name": "python3"
  },
  "language_info": {
   "codemirror_mode": {
    "name": "ipython",
    "version": 3
   },
   "file_extension": ".py",
   "mimetype": "text/x-python",
   "name": "python",
   "nbconvert_exporter": "python",
   "pygments_lexer": "ipython3",
   "version": "3.10.10"
  }
 },
 "nbformat": 4,
 "nbformat_minor": 5
}
